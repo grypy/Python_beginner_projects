{
 "cells": [
  {
   "cell_type": "markdown",
   "metadata": {},
   "source": [
    "# MADLIB\n"
   ]
  },
  {
   "cell_type": "markdown",
   "metadata": {},
   "source": [
    "<div class=\"alert alert-block alert-info\"><b>MADLIB:</b> Mad Libs is a fill-in-the-blank word game invented in 1958 by Roger Price and Leonard B. Stern.\n",
    "\n",
    "One player chooses a story and then replaces words with blanks containing (noun, verb, part of body plural, celebrity male, etc.). The other player fills in the blanks by saying the type of the word, but without showing where it is in the story and the words around it. A usually nonsensical story will be made </div>"
   ]
  },
  {
   "cell_type": "markdown",
   "metadata": {},
   "source": [
    "##### cool, let create a story ... aller (I)"
   ]
  },
  {
   "cell_type": "code",
   "execution_count": 1,
   "metadata": {},
   "outputs": [],
   "source": [
    "#String concatenation"
   ]
  },
  {
   "cell_type": "code",
   "execution_count": 2,
   "metadata": {},
   "outputs": [
    {
     "name": "stdout",
     "output_type": "stream",
     "text": [
      "CLOZE TEST - ELEMENTARY\n",
      "New York City is __________ of the largest cities in _______ world. It is also one of the most densely populated, with an estimated 8 million inhabitants. Manhattan is the ____________ popular part of New York with tourists and has many interesting sights. There is also a large number ______ businesses in this area of the city, including the head offices of some of the world's leading companies. New York's subway system provides transport for more _______ a third of the city's workforce. New York is also regarded _____ the center of entertainment. Broadway is the scene of many box-office hits, Carnegie Hall is one of the most famous concert halls in the world and the city is also home of several opera and ballet companies. With _________ choice of food, entertainment and social life than ________ other city, it is _______ wonder that people flock to New York to experience life in the Big Apple.\n",
      "\n",
      "Enter your answers here\n",
      "Answer 1: one\n",
      "Answer 2: the\n",
      "Answer 3: most\n",
      "Answer 4: of\n",
      "Answer 5: than\n",
      "Answer 6: as\n",
      "Answer 7: great\n",
      "Answer 8: any\n",
      "Answer 9: no\n",
      " \n",
      "Read your story here\n",
      " \n",
      "New York City is one of the largest cities in the world. It is also one of the most densely populated, with an estimated 8 million inhabitants. Manhattan is themost popular part of New York with tourists and has many interesting sights. There is also a large number of businesses in this area of the city, including the head offices of some of the world's leading companies. New York's subway system provides transport for more than a third of the city's workforce. New York is also regarded as the center of entertainment. Broadway is the scene of many box-office hits, Carnegie Hall is one of the most famous concert halls in the world and the city is also home of several opera and ballet companies. With great choice of food, entertainment and social life than any other city, it is no wonder that people flock to New York to experience life in the Big Apple.\n"
     ]
    }
   ],
   "source": [
    "#Gap fill exercise\n",
    "#Use string concatenation to fill in the cloze test below\n",
    "print(\"CLOZE TEST - ELEMENTARY\")\n",
    "print (\"New York City is __________ of the largest cities in _______ world. It is also one of the most densely populated, with an estimated 8 million inhabitants. Manhattan is the ____________ popular part of New York with tourists and has many interesting sights. There is also a large number ______ businesses in this area of the city, including the head offices of some of the world's leading companies. New York's subway system provides transport for more _______ a third of the city's workforce. New York is also regarded _____ the center of entertainment. Broadway is the scene of many box-office hits, Carnegie Hall is one of the most famous concert halls in the world and the city is also home of several opera and ballet companies. With _________ choice of food, entertainment and social life than ________ other city, it is _______ wonder that people flock to New York to experience life in the Big Apple.\")\n",
    "\n",
    "print(\"\")\n",
    "print(\"Enter your answers here\")\n",
    "ans1 = input(\"Answer 1: \")\n",
    "ans2 = input(\"Answer 2: \")\n",
    "ans3 = input(\"Answer 3: \")\n",
    "ans4 = input(\"Answer 4: \")\n",
    "ans5 = input(\"Answer 5: \")\n",
    "ans6 = input(\"Answer 6: \")\n",
    "ans7 = input(\"Answer 7: \")\n",
    "ans8 = input(\"Answer 8: \")\n",
    "ans9 = input(\"Answer 9: \")\n",
    "\n",
    "print(\" \")\n",
    "print(\"Read your story here\")\n",
    "print(\" \")\n",
    "#Read your story\n",
    "print(f\"New York City is {ans1} of the largest cities in {ans2} world. It is also one of the most densely populated, with an estimated 8 million inhabitants. Manhattan is the{ans3} popular part of New York with tourists and has many interesting sights. There is also a large number {ans4} businesses in this area of the city, including the head offices of some of the world's leading companies. New York's subway system provides transport for more {ans5} a third of the city's workforce. New York is also regarded {ans6} the center of entertainment. Broadway is the scene of many box-office hits, Carnegie Hall is one of the most famous concert halls in the world and the city is also home of several opera and ballet companies. With {ans7} choice of food, entertainment and social life than {ans8} other city, it is {ans9} wonder that people flock to New York to experience life in the Big Apple.\")"
   ]
  },
  {
   "cell_type": "markdown",
   "metadata": {},
   "source": [
    "<div class=\"alert alert-block alert-warning\"><b>MADLIB:</b> \n",
    "    Head to this <a href=\"https://www.english-grammar.at/online_exercises/open-cloze/open-cloze-index.htm\">Link</a> for more cloze test at all complexity levels and try the madlib python exercise with them</div>"
   ]
  },
  {
   "cell_type": "markdown",
   "metadata": {},
   "source": [
    "#### EOD"
   ]
  }
 ],
 "metadata": {
  "kernelspec": {
   "display_name": "Python 3",
   "language": "python",
   "name": "python3"
  },
  "language_info": {
   "codemirror_mode": {
    "name": "ipython",
    "version": 3
   },
   "file_extension": ".py",
   "mimetype": "text/x-python",
   "name": "python",
   "nbconvert_exporter": "python",
   "pygments_lexer": "ipython3",
   "version": "3.8.5"
  }
 },
 "nbformat": 4,
 "nbformat_minor": 4
}

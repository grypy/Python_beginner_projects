{
 "cells": [
  {
   "cell_type": "markdown",
   "metadata": {},
   "source": [
    "## Guess the number Game "
   ]
  },
  {
   "cell_type": "markdown",
   "metadata": {},
   "source": [
    "<div class=\"alert alert-block alert-info\"><b>Case scenario: </b> We want to create a game where we guess a number. The computer will assist us determine, using clues, what the random number it has selected is </div>"
   ]
  },
  {
   "cell_type": "markdown",
   "metadata": {},
   "source": [
    "### User Version"
   ]
  },
  {
   "cell_type": "code",
   "execution_count": 1,
   "metadata": {},
   "outputs": [],
   "source": [
    "import random as rn"
   ]
  },
  {
   "cell_type": "code",
   "execution_count": 2,
   "metadata": {},
   "outputs": [
    {
     "name": "stdout",
     "output_type": "stream",
     "text": [
      "Guess a number between 1 and 5: 3\n",
      "Yaay, congrats. You have guessed the number 3 correctly.\n"
     ]
    }
   ],
   "source": [
    "def guess(x):\n",
    "    #Computer generates a random number \n",
    "    random_number = rn.randint(1,x)\n",
    "    guess = 0   #ensures that the number can not be zero\n",
    "    while guess != random_number:\n",
    "        guess = int(input(f\"Guess a number between 1 and {x}: \"))\n",
    "        if guess > x:\n",
    "            print('Invalid entry!')\n",
    "        elif guess < random_number:\n",
    "            print('Sorry, guess again. Too low')\n",
    "        elif guess > random_number:\n",
    "            print('Sorry, guess again. Too high')\n",
    "        \n",
    "    print(f\"Yaay, congrats. You have guessed the number {random_number} correctly.\")\n",
    "            \n",
    "guess(5)\n",
    "            \n",
    "            \n",
    "                "
   ]
  },
  {
   "cell_type": "markdown",
   "metadata": {},
   "source": [
    "### Computer Version"
   ]
  },
  {
   "cell_type": "code",
   "execution_count": 3,
   "metadata": {},
   "outputs": [],
   "source": [
    "def computer_guess(x):\n",
    "    low = 1\n",
    "    high = x\n",
    "    feedback = ''\n",
    "    \n",
    "    while (feedback != 'c'):\n",
    "        if low != high: \n",
    "            guess = rn.randint(low,high)\n",
    "        else:\n",
    "            guess = low    \n",
    "        feedback = input(f'is {guess} too high (h), too low (l), or correct (c)?')\n",
    "        if feedback == 'h':\n",
    "            high = guess - 1\n",
    "        elif feedback == 'l':\n",
    "            low = guess + 1\n",
    "            \n",
    "    print(f'Yaay, congrats. The computer guessed your number, {guess}, correctly')\n",
    "    "
   ]
  },
  {
   "cell_type": "code",
   "execution_count": 5,
   "metadata": {},
   "outputs": [
    {
     "name": "stdout",
     "output_type": "stream",
     "text": [
      "is 735 too high (h), too low (l), or correct (c)?h\n",
      "is 1 too high (h), too low (l), or correct (c)?l\n",
      "is 547 too high (h), too low (l), or correct (c)?h\n",
      "is 495 too high (h), too low (l), or correct (c)?h\n",
      "is 462 too high (h), too low (l), or correct (c)?h\n",
      "is 69 too high (h), too low (l), or correct (c)?l\n",
      "is 227 too high (h), too low (l), or correct (c)?l\n",
      "is 288 too high (h), too low (l), or correct (c)?l\n",
      "is 388 too high (h), too low (l), or correct (c)?l\n",
      "is 430 too high (h), too low (l), or correct (c)?l\n",
      "is 457 too high (h), too low (l), or correct (c)?c\n",
      "Yaay, congrats. The computer guessed your number, 457, correctly\n"
     ]
    }
   ],
   "source": [
    "computer_guess(1000) #Enter the value that is highest in the range <-- Hier\n",
    "#I want to check how many Euros I have left in my e-wallet to buy a mini camera on ebay\n",
    "#The camera costs 457 euros"
   ]
  },
  {
   "cell_type": "markdown",
   "metadata": {},
   "source": [
    "### EOD"
   ]
  }
 ],
 "metadata": {
  "kernelspec": {
   "display_name": "Python 3",
   "language": "python",
   "name": "python3"
  },
  "language_info": {
   "codemirror_mode": {
    "name": "ipython",
    "version": 3
   },
   "file_extension": ".py",
   "mimetype": "text/x-python",
   "name": "python",
   "nbconvert_exporter": "python",
   "pygments_lexer": "ipython3",
   "version": "3.8.5"
  }
 },
 "nbformat": 4,
 "nbformat_minor": 4
}
